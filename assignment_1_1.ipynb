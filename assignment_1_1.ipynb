{
  "cells": [
    {
      "cell_type": "markdown",
      "metadata": {
        "id": "HAvpFCryu8qv"
      },
      "source": [
        "# Assignment 1\n",
        "## [Section 1]\n",
        "This section will make you familier with \n",
        "1. some pytorch basics\n",
        "2. how to train a simple model with linear layers and non-linearity activation layer\n",
        "3. the effect of number of layers"
      ]
    },
    {
      "cell_type": "code",
      "execution_count": 1,
      "metadata": {
        "id": "EyJt4yZIQAem"
      },
      "outputs": [],
      "source": [
        "# Import dependencies\n",
        "import random\n",
        "import numpy as np\n",
        "import torch\n",
        "import torch.nn as nn\n",
        "\n",
        "from matplotlib import pyplot as plt\n",
        "from matplotlib.pyplot import plot, title, axis"
      ]
    },
    {
      "cell_type": "code",
      "execution_count": 2,
      "metadata": {
        "id": "VTHDQFHFQAeq"
      },
      "outputs": [],
      "source": [
        "# Set up your device \n",
        "cuda = torch.cuda.is_available()\n",
        "device = torch.device(\"cuda:0\" if cuda else \"cpu\")"
      ]
    },
    {
      "cell_type": "code",
      "execution_count": 3,
      "metadata": {
        "id": "exqe27QXQAet"
      },
      "outputs": [],
      "source": [
        "# Set up random seed to 1008. Do not change the random seed.\n",
        "# Yes, these are all necessary when you run experiments!\n",
        "seed = 1008\n",
        "random.seed(seed)\n",
        "np.random.seed(seed)\n",
        "torch.manual_seed(seed)\n",
        "if cuda:\n",
        "    torch.cuda.manual_seed(seed)\n",
        "    torch.cuda.manual_seed_all(seed)\n",
        "    torch.backends.cudnn.benchmark = False\n",
        "    torch.backends.cudnn.deterministic = True"
      ]
    },
    {
      "cell_type": "code",
      "execution_count": 4,
      "metadata": {
        "id": "uzHwe6-nxsNJ"
      },
      "outputs": [],
      "source": [
        "# These helper functions are for visualization later\n",
        "def set_default(figsize=(10, 10), dpi=100):\n",
        "    plot.style.use(['dark_background', 'bmh'])\n",
        "    plot.rc('axes', facecolor='k')\n",
        "    plot.rc('figure', facecolor='k')\n",
        "    plot.rc('figure', figsize=figsize, dpi=dpi)\n",
        "\n",
        "def show_scatterplot(X, colors, title=''):\n",
        "    colors = colors.cpu().numpy()\n",
        "    X = X.cpu().numpy()\n",
        "    plt.figure()\n",
        "    plt.axis('equal')\n",
        "    plt.scatter(X[:, 0], X[:, 1], c=colors, s=30)\n",
        "    # plt.grid(True)\n",
        "    plt.title(title)\n",
        "    plt.axis('off')\n",
        "\n",
        "def plot_bases(bases, width=0.04):\n",
        "    bases = bases.cpu()\n",
        "    bases[2:] -= bases[:2]\n",
        "    plt.arrow(*bases[0], *bases[2], width=width, color=(1,0,0), zorder=10, alpha=1., length_includes_head=True)\n",
        "    plt.arrow(*bases[1], *bases[3], width=width, color=(0,1,0), zorder=10, alpha=1., length_includes_head=True)"
      ]
    },
    {
      "cell_type": "markdown",
      "metadata": {
        "id": "7krs-4XOQAev"
      },
      "source": [
        "# 1. Tensor [1 pt]\n",
        "Write a function `build_tensor()` that returns the 2D tensor with integers below. **Do not use any loops**.\n",
        "\n",
        "```\n",
        "1 2 1 1 1 1 2 1 1 1 1 2 1\n",
        "2 2 2 2 2 2 2 2 2 2 2 2 2\n",
        "1 2 1 1 1 1 2 1 1 1 1 2 1\n",
        "1 2 1 3 3 1 2 1 3 3 1 2 1\n",
        "1 2 1 3 3 1 2 1 3 3 1 2 1\n",
        "1 2 1 1 1 1 2 1 1 1 1 2 1\n",
        "2 2 2 2 2 2 2 2 2 2 2 2 2\n",
        "1 2 1 1 1 1 2 1 1 1 1 2 1\n",
        "1 2 1 3 3 1 2 1 3 3 1 2 1\n",
        "1 2 1 3 3 1 2 1 3 3 1 2 1\n",
        "1 2 1 1 1 1 2 1 1 1 1 2 1\n",
        "2 2 2 2 2 2 2 2 2 2 2 2 2\n",
        "1 2 1 1 1 1 2 1 1 1 1 2 1\n",
        "```\n",
        "\n",
        "\n",
        "Hint: Use `torch.full`, `torch.fill_`, and the slicing operator."
      ]
    },
    {
      "cell_type": "code",
      "execution_count": 13,
      "metadata": {
        "id": "JsFk9OUoQAew"
      },
      "outputs": [],
      "source": [
        "def build_tensor():\n",
        "    # TODO: construct the tensor described above.\n",
        "    t = torch.full((13,13),1)\n",
        "    t[:,1:13:5].fill_(2)\n",
        "    t[1:13:5,:].fill_(2)\n",
        "    t[3:13:5,3:5].fill_(3)\n",
        "    t[3:13:5,8:10].fill_(3)\n",
        "    t[4:13:5,3:5].fill_(3)\n",
        "    t[4:13:5,8:10].fill_(3)\n",
        "    return t\n",
        "\n",
        "#build_tensor()"
      ]
    },
    {
      "cell_type": "code",
      "execution_count": 14,
      "metadata": {
        "id": "7t9V7ZwxewwQ"
      },
      "outputs": [],
      "source": [
        "# You can use this assertion to make sure the answer is right.\n",
        "# Before diving into the next question, you should pass the test.\n",
        "assert (build_tensor() == \n",
        "        torch.tensor([[1, 2, 1, 1, 1, 1, 2, 1, 1, 1, 1, 2, 1],\n",
        "        [2, 2, 2, 2, 2, 2, 2, 2, 2, 2, 2, 2, 2],\n",
        "        [1, 2, 1, 1, 1, 1, 2, 1, 1, 1, 1, 2, 1],\n",
        "        [1, 2, 1, 3, 3, 1, 2, 1, 3, 3, 1, 2, 1],\n",
        "        [1, 2, 1, 3, 3, 1, 2, 1, 3, 3, 1, 2, 1],\n",
        "        [1, 2, 1, 1, 1, 1, 2, 1, 1, 1, 1, 2, 1],\n",
        "        [2, 2, 2, 2, 2, 2, 2, 2, 2, 2, 2, 2, 2],\n",
        "        [1, 2, 1, 1, 1, 1, 2, 1, 1, 1, 1, 2, 1],\n",
        "        [1, 2, 1, 3, 3, 1, 2, 1, 3, 3, 1, 2, 1],\n",
        "        [1, 2, 1, 3, 3, 1, 2, 1, 3, 3, 1, 2, 1],\n",
        "        [1, 2, 1, 1, 1, 1, 2, 1, 1, 1, 1, 2, 1],\n",
        "        [2, 2, 2, 2, 2, 2, 2, 2, 2, 2, 2, 2, 2],\n",
        "        [1, 2, 1, 1, 1, 1, 2, 1, 1, 1, 1, 2, 1]])).all()"
      ]
    },
    {
      "cell_type": "markdown",
      "metadata": {
        "id": "E8ivZVl5QAez"
      },
      "source": [
        "# 2. To Loop or not to loop [3 pts]\n",
        "\n",
        "The following questions are intended to give you a flavor of looping."
      ]
    },
    {
      "cell_type": "markdown",
      "metadata": {
        "id": "mxGRJK4-QAe0"
      },
      "source": [
        "## 2.1. `mul_row_loop` [1 pt]\n",
        "Write a function `mul_row_loop`, using python loops (O(mn)) with simple indexing but no advanced indexing/slicing, that receives a 2D tensor as input and returns a tensor of same size that is \n",
        "- equal to the input on the first row\n",
        "- 2 times the input's second row on the second row\n",
        "- 3 times the input's third row on the third row\n",
        "- etc..\n",
        "\n",
        "For instance:\n",
        "```\n",
        ">>> t = torch.full((4, 8), 2.0)\n",
        ">>> t\n",
        "tensor([[2., 2., 2., 2., 2., 2., 2., 2.],\n",
        "[2., 2., 2., 2., 2., 2., 2., 2.],\n",
        "[2., 2., 2., 2., 2., 2., 2., 2.],\n",
        "[2., 2., 2., 2., 2., 2., 2., 2.]])\n",
        ">>> mul_row(t)\n",
        "tensor([[2., 2., 2., 2., 2., 2., 2., 2.],\n",
        "[4., 4., 4., 4., 4., 4., 4., 4.],\n",
        "[6., 6., 6., 6., 6., 6., 6., 6.],\n",
        "[8., 8., 8., 8., 8., 8., 8., 8.]])\n",
        "```"
      ]
    },
    {
      "cell_type": "code",
      "execution_count": 47,
      "metadata": {
        "id": "5YIAg1mlQAe0"
      },
      "outputs": [],
      "source": [
        "def mul_row_loop(input_tensor):\n",
        "    # TODO: write the function with loops\n",
        "    for i in  range (input_tensor.shape[0]):\n",
        "        for j in range (input_tensor.shape[1]):\n",
        "            input_tensor[i,j] *= (i+1)\n",
        "    return input_tensor"
      ]
    },
    {
      "cell_type": "code",
      "execution_count": 48,
      "metadata": {
        "id": "twk2kJJGjtQC"
      },
      "outputs": [],
      "source": [
        "# You can use this assertion to make sure the answer is right.\n",
        "# Before step into the next question, you should pass the test.\n",
        "assert (mul_row_loop(build_tensor()) == torch.tensor([[ 1,  2,  1,  1,  1,  1,  2,  1,  1,  1,  1,  2,  1],\n",
        "        [ 4,  4,  4,  4,  4,  4,  4,  4,  4,  4,  4,  4,  4],\n",
        "        [ 3,  6,  3,  3,  3,  3,  6,  3,  3,  3,  3,  6,  3],\n",
        "        [ 4,  8,  4, 12, 12,  4,  8,  4, 12, 12,  4,  8,  4],\n",
        "        [ 5, 10,  5, 15, 15,  5, 10,  5, 15, 15,  5, 10,  5],\n",
        "        [ 6, 12,  6,  6,  6,  6, 12,  6,  6,  6,  6, 12,  6],\n",
        "        [14, 14, 14, 14, 14, 14, 14, 14, 14, 14, 14, 14, 14],\n",
        "        [ 8, 16,  8,  8,  8,  8, 16,  8,  8,  8,  8, 16,  8],\n",
        "        [ 9, 18,  9, 27, 27,  9, 18,  9, 27, 27,  9, 18,  9],\n",
        "        [10, 20, 10, 30, 30, 10, 20, 10, 30, 30, 10, 20, 10],\n",
        "        [11, 22, 11, 11, 11, 11, 22, 11, 11, 11, 11, 22, 11],\n",
        "        [24, 24, 24, 24, 24, 24, 24, 24, 24, 24, 24, 24, 24],\n",
        "        [13, 26, 13, 13, 13, 13, 26, 13, 13, 13, 13, 26, 13]])).all()"
      ]
    },
    {
      "cell_type": "markdown",
      "metadata": {
        "id": "ycMZbO2HQAe3"
      },
      "source": [
        "# 2.2. `mul_row_fast` [1 pt]\n",
        "Write a second version of the same function named `mul_row_fast` which uses tensor operations and no looping.\n",
        "\n",
        "**Hint**: Use broadcasting and `torch.arange`, `torch.view`, and `torch.mul`."
      ]
    },
    {
      "cell_type": "code",
      "execution_count": 42,
      "metadata": {
        "id": "5V3Q-GX8QAe3"
      },
      "outputs": [],
      "source": [
        "def mul_row_fast(input_tensor):\n",
        "    # TODO: write the function without loops\n",
        "    factor = torch.arange(1,input_tensor.shape[0]+1)\n",
        "    index = factor.view(input_tensor.shape[0],1) # not torch.view will not change the original size of the tensor, torch.resize will\n",
        "    return torch.mul(input_tensor,index)"
      ]
    },
    {
      "cell_type": "code",
      "execution_count": 43,
      "metadata": {
        "id": "wTrEx9P9k2cR"
      },
      "outputs": [],
      "source": [
        "# You can use this assertion to make sure the answer is right.\n",
        "assert (mul_row_fast(build_tensor()) == mul_row_loop(build_tensor())).all()"
      ]
    },
    {
      "cell_type": "markdown",
      "metadata": {
        "id": "6MWuVzVQQAe7"
      },
      "source": [
        "# 2.3. `times` [1 pt]\n",
        "Write a function `times` which takes a 2D tensor as input and returns the run times of `mul_row_loop` and `mul_row_fast` on this tensor, respectively. Use `time.perf_counter`.\n",
        "\n",
        "Use `torch.ones` to create a 2D tensor of size (1000, 400) full of ones and run `times` on it (there should be more than three orders of magnitude difference)."
      ]
    },
    {
      "cell_type": "code",
      "execution_count": 49,
      "metadata": {
        "id": "vlOKGDMJQAe8"
      },
      "outputs": [
        {
          "name": "stdout",
          "output_type": "stream",
          "text": [
            "1.7857374160084873, 0.00019066702225245535\n"
          ]
        }
      ],
      "source": [
        "from time import perf_counter\n",
        "def times(input_tensor):\n",
        "    loop_start = perf_counter()\n",
        "    mul_row_loop(input_tensor)\n",
        "    loop_end = perf_counter()\n",
        "    fast_start = perf_counter()\n",
        "    mul_row_fast(input_tensor)\n",
        "    fast_end = perf_counter()\n",
        "    return loop_end-loop_start, fast_end-fast_start\n",
        "    \n",
        "input_tensor =  torch.ones(1000, 400)\n",
        "time_1, time_2 = times(input_tensor)\n",
        "print('{}, {}'.format(time_1, time_2))"
      ]
    },
    {
      "cell_type": "markdown",
      "metadata": {
        "id": "yn_FXad8QAe_"
      },
      "source": [
        "# 3. Non-linearities [2 pts]\n",
        " \n",
        "In this section, we will explore and get comfortable initializing modules like nn.Linear and using non-linearities in PyTorch."
      ]
    },
    {
      "cell_type": "markdown",
      "metadata": {
        "id": "19a6rMNeQAe_"
      },
      "source": [
        "## 3.1. ReLU [1 pt]\n",
        "ReLU (Rectified Linear Unit) is a non-linear activation fuction defined as:\n",
        "\n",
        "$$y = \\mathrm{max}(0,x)$$\n",
        "\n",
        "Define a fully connected neural network `linear_fc_relu` which:\n",
        "- takes 2 dimensional data as input and passes it through linear modules (`torch.nn.Linear`)\n",
        "- has one hidden layer of dimension 5 \n",
        "- has output dimension of 2\n",
        "- has ReLU as an activation function\n",
        "\n",
        "Create a tensor with input data $X$ of size (100, 2) using `torch.randn` and send it to device.\n",
        "\n",
        "Hint: there are two torch.nn.Linear layers, and a non-linearity activation is after one linear layer"
      ]
    },
    {
      "cell_type": "code",
      "execution_count": null,
      "metadata": {
        "id": "XX0oEX98QAfA"
      },
      "outputs": [],
      "source": [
        "# Input data\n",
        "X = # TODO"
      ]
    },
    {
      "cell_type": "code",
      "execution_count": null,
      "metadata": {
        "colab": {
          "base_uri": "https://localhost:8080/",
          "height": 264
        },
        "id": "zf-DCcGEQAfI",
        "outputId": "4e4792a1-5dc4-4905-8dd7-22778fe3862a"
      },
      "outputs": [
        {
          "data": {
            "image/png": "[encoded data removed]",
            "text/plain": [
              "<Figure size 432x288 with 1 Axes>"
            ]
          },
          "metadata": {
            "needs_background": "light"
          },
          "output_type": "display_data"
        }
      ],
      "source": [
        "# create 1-layer(hidden) neural networks with ReLU activation\n",
        "linear_fc_relu = # TODO\n",
        "\n",
        "# Visualize the output of linear_fc_relu model with random initialization\n",
        "linear_fc_relu.to(device)\n",
        "with torch.no_grad():\n",
        "    Y = linear_fc_relu(X)\n",
        "colors = X[:, 0]\n",
        "show_scatterplot(Y, colors, title='f(x)')"
      ]
    },
    {
      "cell_type": "markdown",
      "metadata": {
        "id": "RSznMa6rQAfL"
      },
      "source": [
        "## 3.2. Sigmoid [1 pt]\n",
        "The sigmoid function is another popular choice for a non-linear activation function which maps its input to values in the interval $(0,1)$. It is formally defined as:\n",
        "\n",
        "$$\\sigma(x) = \\frac{1}{1+ exp[-x]}$$\n",
        "\n",
        "Define a new neural network `linear_fc_sigmoid` which is the same architecture as in part `3.1.` but with a sigmoid unit instead of ReLU. \n",
        "\n",
        "Using the same $X$ as in part `3.1`, visualize the output of passing `X` through the neural network `linear_fc_sigmoid`."
      ]
    },
    {
      "cell_type": "code",
      "execution_count": null,
      "metadata": {
        "colab": {
          "base_uri": "https://localhost:8080/",
          "height": 264
        },
        "id": "5xg3uBHNQAfM",
        "outputId": "3551a224-822c-4f6e-df8f-77ab5a17b899"
      },
      "outputs": [
        {
          "data": {
            "image/png": "[encoded data removed]",
            "text/plain": [
              "<Figure size 432x288 with 1 Axes>"
            ]
          },
          "metadata": {
            "needs_background": "light"
          },
          "output_type": "display_data"
        }
      ],
      "source": [
        "# create 1-layer neural networks with Sigmoid activation\n",
        "linear_fc_sigmoid = # TODO\n",
        "\n",
        "# Visualize the output of linear_fc_sigmoid model with random initialization\n",
        "linear_fc_sigmoid.to(device)\n",
        "with torch.no_grad():\n",
        "    Y = linear_fc_sigmoid(X)\n",
        "colors = X[:, 0]\n",
        "show_scatterplot(Y, colors, title='f(x)')"
      ]
    },
    {
      "cell_type": "markdown",
      "metadata": {
        "id": "AmMGN2Sr33Nn"
      },
      "source": [
        "# 4. Pipeline [4 pts]\n",
        "\n",
        "In this section, we will explore some linear classifiers with different layer numbers and learn how to build a pipeline of training. "
      ]
    },
    {
      "cell_type": "code",
      "execution_count": null,
      "metadata": {
        "id": "a00b8MqI3sZp"
      },
      "outputs": [],
      "source": [
        "# Define data generating functions\n",
        "def quadratic_data_generator(data_size):\n",
        "    # generate an input tensor of size data_size with torch.randn\n",
        "    x = torch.randn(data_size, 1) - 2   \n",
        "    x = x.to(device)\n",
        "\n",
        "    # calculate y = x^2 + 4x - 3\n",
        "    y = # TODO\n",
        "\n",
        "    return x, y\n",
        "\n",
        "def cubic_data_generator(data_size=100):\n",
        "    # f(x) = y = x^3 + 4x^2 - 3\n",
        "    # generate an input tensor of size data_size with torch.randn\n",
        "    x = torch.randn(data_size, 1) - 2   \n",
        "    x = x.to(device)\n",
        "    \n",
        "    # calculate y = x^3 + 4x^2 - 3\n",
        "    y = # TODO\n",
        "\n",
        "    return x, y"
      ]
    },
    {
      "cell_type": "code",
      "execution_count": null,
      "metadata": {
        "id": "uYmZSWWnuv08"
      },
      "outputs": [],
      "source": [
        "# Generate the data with 128 datapoints\n",
        "x, y = quadratic_data_generator(128)\n",
        "plt.scatter(x,y)\n",
        "plt.show()"
      ]
    },
    {
      "cell_type": "code",
      "execution_count": null,
      "metadata": {
        "id": "jX0nd2RL4cMz"
      },
      "outputs": [],
      "source": [
        "# Define a Linear Classifier with a single linear layer and no non-linearity\n",
        "# (no hidden layer)\n",
        "class Linear_0H(nn.Module):\n",
        "    def __init__(self):\n",
        "        super().__init__()\n",
        "\n",
        "        self.classifier = # TODO\n",
        "\n",
        "    def forward(self, x):\n",
        "        return self.classifier(x)"
      ]
    },
    {
      "cell_type": "code",
      "execution_count": null,
      "metadata": {
        "id": "jiZD5-lJ4eef"
      },
      "outputs": [],
      "source": [
        "# Define a Linear Classifier with a single hidden layer of size 5 and ReLU non-linearity\n",
        "class Linear_1H(nn.Module):\n",
        "    def __init__(self):\n",
        "        super().__init__()\n",
        "\n",
        "        self.classifier = # TODO\n",
        "\n",
        "    def forward(self, x):\n",
        "        return self.classifier(x)"
      ]
    },
    {
      "cell_type": "code",
      "execution_count": null,
      "metadata": {
        "id": "8HffIoBQ4f2h"
      },
      "outputs": [],
      "source": [
        "# Define a Linear Classifier with a two hidden layers of size 5 and ReLU non-linearity\n",
        "class Linear_2H(nn.Module):\n",
        "    def __init__(self):\n",
        "        super().__init__()\n",
        "\n",
        "        self.classifier = # TODO\n",
        "\n",
        "    def forward(self, x):\n",
        "        return self.classifier(x)"
      ]
    },
    {
      "cell_type": "code",
      "execution_count": null,
      "metadata": {
        "id": "xof0_Ghf4gth"
      },
      "outputs": [],
      "source": [
        "'''\n",
        "TODO: Training function\n",
        "\n",
        "Hint: look at some example pytorch tutorials to learn how to\n",
        "    - initialize optimizers\n",
        "    - zero gradient\n",
        "    - backprop the loss\n",
        "    - step the gradient\n",
        "\n",
        "\n",
        "Note: This is full batch. We compute forward on whole x, y.\n",
        "No need for dataloaders nor loop over batches. \n",
        "Just pass all of x to model's forward pass.\n",
        "'''\n",
        "def train(model, epochs, x, y):\n",
        "\n",
        "    # Send model to device\n",
        "    # TODO\n",
        "\n",
        "    # Set model to training mode\n",
        "    model.train()\n",
        "    \n",
        "    # Define MSE loss function\n",
        "    criterion = # TODO\n",
        "    \n",
        "    # TODO: Define the SGD optimizer with learning rate 0.01\n",
        "    optimizer = # TODO\n",
        "    \n",
        "    for epoch in range(epochs):\n",
        "        \n",
        "        # TODO: Forward data through model to predict y\n",
        "        y_pred = # TODO\n",
        "        \n",
        "        # TODO: Compute loss in terms of predicted and true y\n",
        "        loss = # TODO\n",
        "\n",
        "        # TODO: Zero gradient\n",
        "        \n",
        "        # TODO: call backward on loss\n",
        "\n",
        "        # TODO: step the optimizer\n",
        "        \n",
        "        # every 500 epochs, print\n",
        "        if (epoch+1) % 500 == 0:\n",
        "            print('Epoch {} loss: {}'.format(epoch+1, loss.item()))\n",
        "            \n",
        "    # return y_pred without gradient information, for plotting\n",
        "    return y_pred.detach()"
      ]
    },
    {
      "cell_type": "markdown",
      "metadata": {
        "id": "VlSQK1sb7V8P"
      },
      "source": [
        "The code below is to visualize the prediction. You may get different curves by running multiple times because of random initialization."
      ]
    },
    {
      "cell_type": "code",
      "execution_count": null,
      "metadata": {
        "id": "FL72g7gR4i1r"
      },
      "outputs": [],
      "source": [
        "# 0H model on quadratic data\n",
        "model = Linear_0H()\n",
        "y_pred = train(model, epochs=5000, x=x, y=y)\n",
        "\n",
        "# Plot predictions vs actual data\n",
        "plt.scatter(x.cpu(), y.cpu())\n",
        "plt.scatter(x.cpu(), y_pred.cpu())\n",
        "plt.show()"
      ]
    },
    {
      "cell_type": "code",
      "execution_count": null,
      "metadata": {
        "id": "Bf9zj-Dn4kTl"
      },
      "outputs": [],
      "source": [
        "# 1H model on quadratic data\n",
        "model = Linear_1H()\n",
        "y_pred = train(model, epochs=5000, x=x, y=y)\n",
        "plt.scatter(x.cpu(), y.cpu())\n",
        "plt.scatter(x.cpu(), y_pred.cpu())\n",
        "plt.show()"
      ]
    },
    {
      "cell_type": "code",
      "execution_count": null,
      "metadata": {
        "id": "-HAezDH74ks1"
      },
      "outputs": [],
      "source": [
        "# 2H model on quadratic data\n",
        "model = Linear_2H()\n",
        "y_pred = train(model, epochs=5000, x=x, y=y)\n",
        "plt.scatter(x.cpu(), y.cpu())\n",
        "plt.scatter(x.cpu(), y_pred.cpu())\n",
        "plt.show()"
      ]
    },
    {
      "cell_type": "code",
      "execution_count": null,
      "metadata": {
        "id": "8oOmaesy4lvK"
      },
      "outputs": [],
      "source": [
        "# Generate cubic data with 128 data points\n",
        "x, y = cubic_data_generator(128)"
      ]
    },
    {
      "cell_type": "code",
      "execution_count": null,
      "metadata": {
        "id": "V1kRBOsD4oJs"
      },
      "outputs": [],
      "source": [
        "# 0H model on cubic data\n",
        "model = Linear_0H()\n",
        "y_pred = train(model, epochs=5000, x=x, y=y)\n",
        "plt.scatter(x.cpu(), y.cpu())\n",
        "plt.scatter(x.cpu(), y_pred.cpu())\n",
        "plt.show()"
      ]
    },
    {
      "cell_type": "code",
      "execution_count": null,
      "metadata": {
        "id": "onSjlSm24pnk"
      },
      "outputs": [],
      "source": [
        "# 1H model on cubic data\n",
        "model = Linear_1H()\n",
        "y_pred = train(model, epochs=5000, x=x, y=y)\n",
        "plt.scatter(x.cpu(), y.cpu())\n",
        "plt.scatter(x.cpu(), y_pred.cpu())\n",
        "plt.show()"
      ]
    },
    {
      "cell_type": "code",
      "execution_count": null,
      "metadata": {
        "id": "9EWeYXQV4qQw"
      },
      "outputs": [],
      "source": [
        "# 2H model on cubic data\n",
        "model = Linear_2H()\n",
        "y_pred = train(model, epochs=5000, x=x, y=y)\n",
        "plt.scatter(x.cpu(), y.cpu())\n",
        "plt.scatter(x.cpu(), y_pred.cpu())\n",
        "plt.show()"
      ]
    }
  ],
  "metadata": {
    "colab": {
      "collapsed_sections": [],
      "provenance": []
    },
    "kernelspec": {
      "display_name": "Python 3",
      "language": "python",
      "name": "python3"
    },
    "language_info": {
      "codemirror_mode": {
        "name": "ipython",
        "version": 3
      },
      "file_extension": ".py",
      "mimetype": "text/x-python",
      "name": "python",
      "nbconvert_exporter": "python",
      "pygments_lexer": "ipython3",
      "version": "3.11.4"
    }
  },
  "nbformat": 4,
  "nbformat_minor": 0
}
