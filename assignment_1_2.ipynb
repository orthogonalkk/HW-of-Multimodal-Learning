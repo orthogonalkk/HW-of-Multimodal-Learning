{
  "cells": [
    {
      "cell_type": "markdown",
      "metadata": {
        "id": "XuPJi-rq1WEZ"
      },
      "source": [
        "# Assignment 1\n",
        "## [Section 2]\n",
        "This assignment will make you familier with \n",
        "1. loading and preprocessing data using built-in function\n",
        "2. how to construct a simple CNN model\n",
        "3. the training and testing pipeline\n",
        "\n",
        "\n",
        "In this assignment, you might find some tutorials useful, such as https://pytorch.org/tutorials/beginner/basics/intro.html."
      ]
    },
    {
      "cell_type": "code",
      "execution_count": 1,
      "metadata": {
        "id": "N7OzMyzk1WEc"
      },
      "outputs": [],
      "source": [
        "# Import dependencies.\n",
        "import random\n",
        "import numpy as np\n",
        "import torch\n",
        "import torch.nn as nn\n",
        "import torch.nn.functional as F\n",
        "import torch.optim as optim\n",
        "from torch.utils.data import DataLoader\n",
        "from torchvision import datasets, transforms"
      ]
    },
    {
      "cell_type": "code",
      "execution_count": 2,
      "metadata": {
        "id": "Xe6caWN_1WEd"
      },
      "outputs": [],
      "source": [
        "# Set up your device \n",
        "cuda = torch.cuda.is_available()\n",
        "device = torch.device(\"cuda:0\" if cuda else \"cpu\")"
      ]
    },
    {
      "cell_type": "code",
      "execution_count": 3,
      "metadata": {
        "id": "PbWR_5nB1WEd"
      },
      "outputs": [],
      "source": [
        "# Set up random seed to 1008. Do not change the random seed.\n",
        "# Yes, these are all necessary when you run experiments!\n",
        "seed = 1008\n",
        "random.seed(seed)\n",
        "np.random.seed(seed)\n",
        "torch.manual_seed(seed)\n",
        "if cuda:\n",
        "    torch.cuda.manual_seed(seed)\n",
        "    torch.cuda.manual_seed_all(seed)\n",
        "    torch.backends.cudnn.benchmark = False\n",
        "    torch.backends.cudnn.deterministic = True"
      ]
    },
    {
      "cell_type": "markdown",
      "metadata": {
        "id": "s3MQkukl1WEd"
      },
      "source": [
        "## 1. Data: MNIST [2 pt]\n",
        "#### Load the MNIST training and test dataset using $\\texttt{torch.utils.data.DataLoader}$ and $\\texttt{torchvision.datasets}$. \n",
        "\n",
        "This dataset consists of images of handwritten digit, and thus the number of classes is 10. The shape of image in MNIST dataset is (28, 28, 1)\n",
        "\n",
        "The normalization parameters we will use is (0.1307, 0.3081)\n",
        "\n",
        "More details please refer to  http://yann.lecun.com/exdb/mnist/."
      ]
    },
    {
      "cell_type": "markdown",
      "metadata": {
        "id": "8_3sASfx1WEe"
      },
      "source": [
        "### 1.1. Load Training Set [1 pt]"
      ]
    },
    {
      "cell_type": "code",
      "execution_count": 5,
      "metadata": {
        "id": "UxI1Bov71WEe"
      },
      "outputs": [
        {
          "name": "stdout",
          "output_type": "stream",
          "text": [
            "Downloading http://yann.lecun.com/exdb/mnist/train-images-idx3-ubyte.gz\n",
            "Failed to download (trying next):\n",
            "HTTP Error 403: Forbidden\n",
            "\n",
            "Downloading https://ossci-datasets.s3.amazonaws.com/mnist/train-images-idx3-ubyte.gz\n",
            "Downloading https://ossci-datasets.s3.amazonaws.com/mnist/train-images-idx3-ubyte.gz to data/MNIST/raw/train-images-idx3-ubyte.gz\n"
          ]
        },
        {
          "name": "stderr",
          "output_type": "stream",
          "text": [
            "100%|██████████| 9912422/9912422 [00:02<00:00, 4633574.53it/s]\n"
          ]
        },
        {
          "name": "stdout",
          "output_type": "stream",
          "text": [
            "Extracting data/MNIST/raw/train-images-idx3-ubyte.gz to data/MNIST/raw\n",
            "\n",
            "Downloading http://yann.lecun.com/exdb/mnist/train-labels-idx1-ubyte.gz\n",
            "Failed to download (trying next):\n",
            "HTTP Error 403: Forbidden\n",
            "\n",
            "Downloading https://ossci-datasets.s3.amazonaws.com/mnist/train-labels-idx1-ubyte.gz\n",
            "Downloading https://ossci-datasets.s3.amazonaws.com/mnist/train-labels-idx1-ubyte.gz to data/MNIST/raw/train-labels-idx1-ubyte.gz\n"
          ]
        },
        {
          "name": "stderr",
          "output_type": "stream",
          "text": [
            "100%|██████████| 28881/28881 [00:00<00:00, 220030.29it/s]\n"
          ]
        },
        {
          "name": "stdout",
          "output_type": "stream",
          "text": [
            "Extracting data/MNIST/raw/train-labels-idx1-ubyte.gz to data/MNIST/raw\n",
            "\n",
            "Downloading http://yann.lecun.com/exdb/mnist/t10k-images-idx3-ubyte.gz\n",
            "Failed to download (trying next):\n",
            "HTTP Error 403: Forbidden\n",
            "\n",
            "Downloading https://ossci-datasets.s3.amazonaws.com/mnist/t10k-images-idx3-ubyte.gz\n",
            "Downloading https://ossci-datasets.s3.amazonaws.com/mnist/t10k-images-idx3-ubyte.gz to data/MNIST/raw/t10k-images-idx3-ubyte.gz\n"
          ]
        },
        {
          "name": "stderr",
          "output_type": "stream",
          "text": [
            "100%|██████████| 1648877/1648877 [00:02<00:00, 654979.33it/s]\n"
          ]
        },
        {
          "name": "stdout",
          "output_type": "stream",
          "text": [
            "Extracting data/MNIST/raw/t10k-images-idx3-ubyte.gz to data/MNIST/raw\n",
            "\n",
            "Downloading http://yann.lecun.com/exdb/mnist/t10k-labels-idx1-ubyte.gz\n",
            "Failed to download (trying next):\n",
            "HTTP Error 403: Forbidden\n",
            "\n",
            "Downloading https://ossci-datasets.s3.amazonaws.com/mnist/t10k-labels-idx1-ubyte.gz\n",
            "Downloading https://ossci-datasets.s3.amazonaws.com/mnist/t10k-labels-idx1-ubyte.gz to data/MNIST/raw/t10k-labels-idx1-ubyte.gz\n"
          ]
        },
        {
          "name": "stderr",
          "output_type": "stream",
          "text": [
            "100%|██████████| 4542/4542 [00:00<00:00, 1069173.24it/s]"
          ]
        },
        {
          "name": "stdout",
          "output_type": "stream",
          "text": [
            "Extracting data/MNIST/raw/t10k-labels-idx1-ubyte.gz to data/MNIST/raw\n",
            "\n"
          ]
        },
        {
          "name": "stderr",
          "output_type": "stream",
          "text": [
            "\n"
          ]
        }
      ],
      "source": [
        "transform = transforms.Compose([transforms.ToTensor(), transforms.Normalize((0.1307,), (0.3081,))]) \n",
        "# Load the MNIST training set with batch size 128, apply data shuffling and normalization \n",
        "# train_loader = TODO\n",
        "train_loader = DataLoader(datasets.MNIST('data', train=True, download=True, transform=transform), batch_size=128, shuffle=True)\n",
        "\n"
      ]
    },
    {
      "cell_type": "markdown",
      "metadata": {
        "id": "QpWxQFFx1WEe"
      },
      "source": [
        "### 1.2. Load Test Set [1 pt]"
      ]
    },
    {
      "cell_type": "code",
      "execution_count": 6,
      "metadata": {
        "id": "zu55m4_h1WEf"
      },
      "outputs": [],
      "source": [
        "# Load the MNIST test set with batch size 128, apply normalization\n",
        "# test_loader = TODO\n",
        "\n",
        "test_loader = DataLoader(datasets.MNIST('data', train=False, download=True, transform=transform), batch_size=128, shuffle=False)"
      ]
    },
    {
      "cell_type": "markdown",
      "metadata": {
        "id": "OspQSBSz1WEf"
      },
      "source": [
        "## 2. Models [3 pts]\n",
        "#### You are going to define two convolutional neural networks which are trained to classify MNIST digits"
      ]
    },
    {
      "cell_type": "markdown",
      "metadata": {
        "id": "pqEs-i9H1WEg"
      },
      "source": [
        "### 2.1. CNN without Batch Norm [2 pts]"
      ]
    },
    {
      "cell_type": "code",
      "execution_count": 17,
      "metadata": {
        "id": "fH7n7KqZ1WEg"
      },
      "outputs": [],
      "source": [
        "# Fill in the values below that make this network valid for MNIST data\n",
        "# Hint: to make sure these, you may calculate the shape of x of every line in the forward.\n",
        "conv1_in_ch = 1\n",
        "conv2_in_ch = 20\n",
        "fc1_in_features = 800\n",
        "fc2_in_features = 500\n",
        "n_classes = 10"
      ]
    },
    {
      "cell_type": "code",
      "execution_count": 19,
      "metadata": {
        "id": "QyMaix4F1WEg"
      },
      "outputs": [],
      "source": [
        "class NetWithoutBatchNorm(nn.Module):\n",
        "    def __init__(self):\n",
        "        super(NetWithoutBatchNorm, self).__init__()\n",
        "        self.conv1 = nn.Conv2d(in_channels=conv1_in_ch, out_channels=20, kernel_size=5, stride=1)\n",
        "        self.conv2 = nn.Conv2d(in_channels=conv2_in_ch, out_channels=50, kernel_size=5, stride=1)\n",
        "        self.fc1 = nn.Linear(in_features=fc1_in_features, out_features=500)\n",
        "        self.fc2 = nn.Linear(in_features=fc2_in_features, out_features=n_classes)\n",
        "\n",
        "    def forward(self, x):\n",
        "        x = F.relu(self.conv1(x))\n",
        "        x = F.max_pool2d(x, kernel_size=2, stride=2)\n",
        "        x = F.relu(self.conv2(x))\n",
        "        x = F.max_pool2d(x, kernel_size=2, stride=2)\n",
        "        x = x.view(-1, fc1_in_features) # reshaping\n",
        "        x = F.relu(self.fc1(x))\n",
        "        x = self.fc2(x)\n",
        "        \n",
        "        # Return the log_softmax of x.\n",
        "        return F.log_softmax(x, dim=1)"
      ]
    },
    {
      "cell_type": "markdown",
      "metadata": {
        "id": "kFKJlgu81WEh"
      },
      "source": [
        "### 2.2. CNN with Batch Norm [1 pt]"
      ]
    },
    {
      "cell_type": "code",
      "execution_count": 25,
      "metadata": {
        "id": "Mc3rp2YW1WEh"
      },
      "outputs": [],
      "source": [
        "# Fill in the values below that make this network valid for MNIST data\n",
        "# Hint: to make sure these, you may calculate the shape of x of every line in the forward.\n",
        "conv1_bn_size = 20\n",
        "conv2_bn_size = 50\n",
        "fc1_bn_size  = 500"
      ]
    },
    {
      "cell_type": "code",
      "execution_count": 23,
      "metadata": {
        "id": "b-0DOwV31WEh"
      },
      "outputs": [],
      "source": [
        "# Define the CNN with architecture explained in Part 2.2\n",
        "class NetWithBatchNorm(nn.Module):\n",
        "    def __init__(self):\n",
        "        super(NetWithBatchNorm, self).__init__()\n",
        "        self.conv1 = nn.Conv2d(in_channels=conv1_in_ch, out_channels=20, kernel_size=5, stride=1)\n",
        "        self.conv1_bn = nn.BatchNorm2d(conv1_bn_size)\n",
        "        self.conv2 = nn.Conv2d(in_channels=conv2_in_ch, out_channels=50, kernel_size=5, stride=1)\n",
        "        self.conv2_bn = nn.BatchNorm2d(conv2_bn_size)\n",
        "        self.fc1 = nn.Linear(in_features=fc1_in_features, out_features=500)\n",
        "        self.fc1_bn = nn.BatchNorm1d(fc1_bn_size)\n",
        "        self.fc2 = nn.Linear(in_features=fc2_in_features, out_features=n_classes)\n",
        "\n",
        "    def forward(self, x):\n",
        "        x = F.relu(self.conv1_bn(self.conv1(x)))\n",
        "        x = F.max_pool2d(x, kernel_size=2, stride=2)\n",
        "        x = F.relu(self.conv2_bn(self.conv2(x)))\n",
        "        x = F.max_pool2d(x, kernel_size=2, stride=2)\n",
        "        x = x.view(-1, fc1_in_features)\n",
        "        x = F.relu(self.fc1_bn(self.fc1(x)))\n",
        "        x = self.fc2(x)\n",
        "\n",
        "        # Return the log_softmax of x.\n",
        "        return F.log_softmax(x, dim=1)\n"
      ]
    },
    {
      "cell_type": "markdown",
      "metadata": {
        "id": "0psJkBxm1WEh"
      },
      "source": [
        "## 3. Training & Evaluation [4 pts]"
      ]
    },
    {
      "cell_type": "markdown",
      "metadata": {
        "id": "VFY-_pb71WEi"
      },
      "source": [
        "### 3.1. Define training method [1 pt]"
      ]
    },
    {
      "cell_type": "code",
      "execution_count": 15,
      "metadata": {
        "id": "5xL7MVll1WEi"
      },
      "outputs": [],
      "source": [
        "def train(model, device, train_loader, optimizer, epoch, log_interval = 100):\n",
        "    # Set model to training mode\n",
        "    model.train()\n",
        "    # Loop through data points\n",
        "    for batch_idx, (data, target) in enumerate(train_loader):\n",
        "    \n",
        "        # Send data and target to device\n",
        "        data, target  =data.to(device), target.to(device)\n",
        "        \n",
        "        # Zero out the ortimizer\n",
        "        optimizer.zero_grad()\n",
        "        \n",
        "        # Pass data through model\n",
        "        output = model(data)\n",
        "        \n",
        "        # Compute the negative log likelihood loss\n",
        "        loss = F.nll_loss(output, target)\n",
        "        \n",
        "        # Backpropagate loss\n",
        "        loss.backward()\n",
        "        \n",
        "        # Make a step with the optimizer\n",
        "        optimizer.step()\n",
        "    \n",
        "        if batch_idx % log_interval == 0:\n",
        "            print('Train Epoch: {} [{}/{} ({:.0f}%)]\\tLoss: {:.6f}'.format(\n",
        "                epoch, batch_idx * len(data), len(train_loader.dataset),\n",
        "                100. * batch_idx / len(train_loader), loss.item()))"
      ]
    },
    {
      "cell_type": "markdown",
      "metadata": {
        "id": "ZygvwvvW1WEi"
      },
      "source": [
        "### 3.2. Define test method [1 pt]"
      ]
    },
    {
      "cell_type": "code",
      "execution_count": 13,
      "metadata": {
        "id": "Xix5BhkV1WEi"
      },
      "outputs": [],
      "source": [
        "# Define test method\n",
        "def test(model, device, test_loader):\n",
        "    # Set model to evaluation mode\n",
        "    model.eval()\n",
        "    # Variable for the total loss \n",
        "    test_loss = 0\n",
        "    # Counter for the correct predictions\n",
        "    num_correct = 0\n",
        "    \n",
        "    # don't need autograd for eval\n",
        "    with torch.no_grad():\n",
        "        # Loop through data points\n",
        "        for data, target in test_loader:\n",
        "\n",
        "            # Send data to device\n",
        "            data.to(device)\n",
        "            \n",
        "            # Pass data through model\n",
        "            output = model(data)\n",
        "            \n",
        "            # Compute the negative log likelihood loss with reduction='sum' and add to total test_loss\n",
        "            test_loss += F.nll_loss(output, target, reduction='sum').item()\n",
        "            \n",
        "            # Get predictions from the model for each data point\n",
        "            pred = output.argmax(dim=1, keepdim=True)\n",
        "            \n",
        "            # Add number of correct predictions to total num_correct\n",
        "            num_correct += pred.eq(target.view_as(pred)).sum().item()\n",
        "    \n",
        "    # Compute the average test_loss\n",
        "    avg_test_loss = test_loss / len(test_loader.dataset)\n",
        "    \n",
        "    print('\\nTest set: Average loss: {:.4f}, Accuracy: {}/{} ({:.0f}%)\\n'.format(\n",
        "        avg_test_loss, num_correct, len(test_loader.dataset),\n",
        "        100. * num_correct / len(test_loader.dataset)))"
      ]
    },
    {
      "cell_type": "markdown",
      "metadata": {
        "id": "Li3a435x1WEi"
      },
      "source": [
        "### 3.3 Train NetWithoutBatchNorm() [1 pt]"
      ]
    },
    {
      "cell_type": "code",
      "execution_count": 20,
      "metadata": {
        "colab": {
          "background_save": true
        },
        "id": "3J_u4HI41WEj"
      },
      "outputs": [
        {
          "name": "stdout",
          "output_type": "stream",
          "text": [
            "Train Epoch: 1 [0/60000 (0%)]\tLoss: 2.299460\n",
            "Train Epoch: 1 [12800/60000 (21%)]\tLoss: 0.592757\n",
            "Train Epoch: 1 [25600/60000 (43%)]\tLoss: 0.237664\n",
            "Train Epoch: 1 [38400/60000 (64%)]\tLoss: 0.250348\n",
            "Train Epoch: 1 [51200/60000 (85%)]\tLoss: 0.216620\n",
            "\n",
            "Test set: Average loss: 0.1565, Accuracy: 9546/10000 (95%)\n",
            "\n",
            "Train Epoch: 2 [0/60000 (0%)]\tLoss: 0.202738\n",
            "Train Epoch: 2 [12800/60000 (21%)]\tLoss: 0.177004\n",
            "Train Epoch: 2 [25600/60000 (43%)]\tLoss: 0.131415\n",
            "Train Epoch: 2 [38400/60000 (64%)]\tLoss: 0.102925\n",
            "Train Epoch: 2 [51200/60000 (85%)]\tLoss: 0.147708\n",
            "\n",
            "Test set: Average loss: 0.0929, Accuracy: 9726/10000 (97%)\n",
            "\n",
            "Train Epoch: 3 [0/60000 (0%)]\tLoss: 0.080770\n",
            "Train Epoch: 3 [12800/60000 (21%)]\tLoss: 0.114013\n",
            "Train Epoch: 3 [25600/60000 (43%)]\tLoss: 0.078516\n",
            "Train Epoch: 3 [38400/60000 (64%)]\tLoss: 0.026363\n",
            "Train Epoch: 3 [51200/60000 (85%)]\tLoss: 0.029726\n",
            "\n",
            "Test set: Average loss: 0.0664, Accuracy: 9802/10000 (98%)\n",
            "\n",
            "Train Epoch: 4 [0/60000 (0%)]\tLoss: 0.153307\n",
            "Train Epoch: 4 [12800/60000 (21%)]\tLoss: 0.044657\n",
            "Train Epoch: 4 [25600/60000 (43%)]\tLoss: 0.074918\n",
            "Train Epoch: 4 [38400/60000 (64%)]\tLoss: 0.100278\n",
            "Train Epoch: 4 [51200/60000 (85%)]\tLoss: 0.050384\n",
            "\n",
            "Test set: Average loss: 0.0547, Accuracy: 9833/10000 (98%)\n",
            "\n",
            "Train Epoch: 5 [0/60000 (0%)]\tLoss: 0.109253\n",
            "Train Epoch: 5 [12800/60000 (21%)]\tLoss: 0.054183\n",
            "Train Epoch: 5 [25600/60000 (43%)]\tLoss: 0.093734\n",
            "Train Epoch: 5 [38400/60000 (64%)]\tLoss: 0.081560\n",
            "Train Epoch: 5 [51200/60000 (85%)]\tLoss: 0.046560\n",
            "\n",
            "Test set: Average loss: 0.0512, Accuracy: 9839/10000 (98%)\n",
            "\n",
            "Train Epoch: 6 [0/60000 (0%)]\tLoss: 0.041430\n",
            "Train Epoch: 6 [12800/60000 (21%)]\tLoss: 0.035776\n",
            "Train Epoch: 6 [25600/60000 (43%)]\tLoss: 0.033196\n",
            "Train Epoch: 6 [38400/60000 (64%)]\tLoss: 0.106160\n",
            "Train Epoch: 6 [51200/60000 (85%)]\tLoss: 0.079267\n",
            "\n",
            "Test set: Average loss: 0.0480, Accuracy: 9849/10000 (98%)\n",
            "\n",
            "Train Epoch: 7 [0/60000 (0%)]\tLoss: 0.072355\n",
            "Train Epoch: 7 [12800/60000 (21%)]\tLoss: 0.022084\n",
            "Train Epoch: 7 [25600/60000 (43%)]\tLoss: 0.028139\n",
            "Train Epoch: 7 [38400/60000 (64%)]\tLoss: 0.063792\n",
            "Train Epoch: 7 [51200/60000 (85%)]\tLoss: 0.092573\n",
            "\n",
            "Test set: Average loss: 0.0525, Accuracy: 9831/10000 (98%)\n",
            "\n",
            "Train Epoch: 8 [0/60000 (0%)]\tLoss: 0.039445\n",
            "Train Epoch: 8 [12800/60000 (21%)]\tLoss: 0.053939\n",
            "Train Epoch: 8 [25600/60000 (43%)]\tLoss: 0.009442\n",
            "Train Epoch: 8 [38400/60000 (64%)]\tLoss: 0.035208\n",
            "Train Epoch: 8 [51200/60000 (85%)]\tLoss: 0.052461\n",
            "\n",
            "Test set: Average loss: 0.0452, Accuracy: 9865/10000 (99%)\n",
            "\n",
            "Train Epoch: 9 [0/60000 (0%)]\tLoss: 0.071612\n",
            "Train Epoch: 9 [12800/60000 (21%)]\tLoss: 0.018490\n",
            "Train Epoch: 9 [25600/60000 (43%)]\tLoss: 0.044795\n",
            "Train Epoch: 9 [38400/60000 (64%)]\tLoss: 0.012564\n",
            "Train Epoch: 9 [51200/60000 (85%)]\tLoss: 0.066050\n",
            "\n",
            "Test set: Average loss: 0.0386, Accuracy: 9867/10000 (99%)\n",
            "\n",
            "Train Epoch: 10 [0/60000 (0%)]\tLoss: 0.026390\n",
            "Train Epoch: 10 [12800/60000 (21%)]\tLoss: 0.042756\n",
            "Train Epoch: 10 [25600/60000 (43%)]\tLoss: 0.037634\n",
            "Train Epoch: 10 [38400/60000 (64%)]\tLoss: 0.025388\n",
            "Train Epoch: 10 [51200/60000 (85%)]\tLoss: 0.044459\n",
            "\n",
            "Test set: Average loss: 0.0350, Accuracy: 9889/10000 (99%)\n",
            "\n"
          ]
        }
      ],
      "source": [
        "# Deifne model and sent to device\n",
        "model = NetWithoutBatchNorm().to(device)\n",
        "\n",
        "# Optimizer: SGD with learning rate of 1e-2 and momentum of 0.5\n",
        "optimizer = optim.SGD(model.parameters(), lr=1e-2, momentum=0.5)\n",
        "\n",
        "# Training loop with 10 epochs\n",
        "for epoch in range(1, 10 + 1):\n",
        "\n",
        "    # Train model\n",
        "    train(model, device, train_loader, optimizer, epoch)\n",
        "\n",
        "    # Test model\n",
        "    test(model, device, test_loader)"
      ]
    },
    {
      "cell_type": "markdown",
      "metadata": {
        "id": "xRCI-zz_1WEj"
      },
      "source": [
        "### 3.4 Train NetWithBatchNorm() [1 pt]"
      ]
    },
    {
      "cell_type": "code",
      "execution_count": 26,
      "metadata": {
        "id": "jQtHCqEq1WEj"
      },
      "outputs": [
        {
          "name": "stdout",
          "output_type": "stream",
          "text": [
            "Train Epoch: 1 [0/60000 (0%)]\tLoss: 2.328665\n",
            "Train Epoch: 1 [12800/60000 (21%)]\tLoss: 0.163484\n",
            "Train Epoch: 1 [25600/60000 (43%)]\tLoss: 0.163892\n",
            "Train Epoch: 1 [38400/60000 (64%)]\tLoss: 0.106715\n",
            "Train Epoch: 1 [51200/60000 (85%)]\tLoss: 0.137068\n",
            "\n",
            "Test set: Average loss: 0.0765, Accuracy: 9811/10000 (98%)\n",
            "\n",
            "Train Epoch: 2 [0/60000 (0%)]\tLoss: 0.078624\n",
            "Train Epoch: 2 [12800/60000 (21%)]\tLoss: 0.099529\n",
            "Train Epoch: 2 [25600/60000 (43%)]\tLoss: 0.055824\n",
            "Train Epoch: 2 [38400/60000 (64%)]\tLoss: 0.120223\n",
            "Train Epoch: 2 [51200/60000 (85%)]\tLoss: 0.085124\n",
            "\n",
            "Test set: Average loss: 0.0521, Accuracy: 9855/10000 (99%)\n",
            "\n",
            "Train Epoch: 3 [0/60000 (0%)]\tLoss: 0.051701\n",
            "Train Epoch: 3 [12800/60000 (21%)]\tLoss: 0.031841\n",
            "Train Epoch: 3 [25600/60000 (43%)]\tLoss: 0.041774\n",
            "Train Epoch: 3 [38400/60000 (64%)]\tLoss: 0.050601\n",
            "Train Epoch: 3 [51200/60000 (85%)]\tLoss: 0.035449\n",
            "\n",
            "Test set: Average loss: 0.0426, Accuracy: 9873/10000 (99%)\n",
            "\n",
            "Train Epoch: 4 [0/60000 (0%)]\tLoss: 0.024776\n",
            "Train Epoch: 4 [12800/60000 (21%)]\tLoss: 0.046062\n",
            "Train Epoch: 4 [25600/60000 (43%)]\tLoss: 0.075490\n",
            "Train Epoch: 4 [38400/60000 (64%)]\tLoss: 0.012836\n",
            "Train Epoch: 4 [51200/60000 (85%)]\tLoss: 0.039326\n",
            "\n",
            "Test set: Average loss: 0.0382, Accuracy: 9883/10000 (99%)\n",
            "\n",
            "Train Epoch: 5 [0/60000 (0%)]\tLoss: 0.018874\n",
            "Train Epoch: 5 [12800/60000 (21%)]\tLoss: 0.020275\n",
            "Train Epoch: 5 [25600/60000 (43%)]\tLoss: 0.069648\n",
            "Train Epoch: 5 [38400/60000 (64%)]\tLoss: 0.030177\n",
            "Train Epoch: 5 [51200/60000 (85%)]\tLoss: 0.017810\n",
            "\n",
            "Test set: Average loss: 0.0334, Accuracy: 9899/10000 (99%)\n",
            "\n",
            "Train Epoch: 6 [0/60000 (0%)]\tLoss: 0.024676\n",
            "Train Epoch: 6 [12800/60000 (21%)]\tLoss: 0.048137\n",
            "Train Epoch: 6 [25600/60000 (43%)]\tLoss: 0.016322\n",
            "Train Epoch: 6 [38400/60000 (64%)]\tLoss: 0.039623\n",
            "Train Epoch: 6 [51200/60000 (85%)]\tLoss: 0.020363\n",
            "\n",
            "Test set: Average loss: 0.0326, Accuracy: 9906/10000 (99%)\n",
            "\n",
            "Train Epoch: 7 [0/60000 (0%)]\tLoss: 0.013778\n",
            "Train Epoch: 7 [12800/60000 (21%)]\tLoss: 0.075417\n",
            "Train Epoch: 7 [25600/60000 (43%)]\tLoss: 0.009581\n",
            "Train Epoch: 7 [38400/60000 (64%)]\tLoss: 0.035773\n",
            "Train Epoch: 7 [51200/60000 (85%)]\tLoss: 0.008851\n",
            "\n",
            "Test set: Average loss: 0.0293, Accuracy: 9910/10000 (99%)\n",
            "\n",
            "Train Epoch: 8 [0/60000 (0%)]\tLoss: 0.025389\n",
            "Train Epoch: 8 [12800/60000 (21%)]\tLoss: 0.022221\n",
            "Train Epoch: 8 [25600/60000 (43%)]\tLoss: 0.020446\n",
            "Train Epoch: 8 [38400/60000 (64%)]\tLoss: 0.087253\n",
            "Train Epoch: 8 [51200/60000 (85%)]\tLoss: 0.023711\n",
            "\n",
            "Test set: Average loss: 0.0291, Accuracy: 9913/10000 (99%)\n",
            "\n",
            "Train Epoch: 9 [0/60000 (0%)]\tLoss: 0.012025\n",
            "Train Epoch: 9 [12800/60000 (21%)]\tLoss: 0.019574\n",
            "Train Epoch: 9 [25600/60000 (43%)]\tLoss: 0.015412\n",
            "Train Epoch: 9 [38400/60000 (64%)]\tLoss: 0.064606\n",
            "Train Epoch: 9 [51200/60000 (85%)]\tLoss: 0.010544\n",
            "\n",
            "Test set: Average loss: 0.0281, Accuracy: 9911/10000 (99%)\n",
            "\n",
            "Train Epoch: 10 [0/60000 (0%)]\tLoss: 0.010368\n",
            "Train Epoch: 10 [12800/60000 (21%)]\tLoss: 0.019936\n",
            "Train Epoch: 10 [25600/60000 (43%)]\tLoss: 0.019167\n",
            "Train Epoch: 10 [38400/60000 (64%)]\tLoss: 0.027176\n",
            "Train Epoch: 10 [51200/60000 (85%)]\tLoss: 0.014980\n",
            "\n",
            "Test set: Average loss: 0.0279, Accuracy: 9915/10000 (99%)\n",
            "\n"
          ]
        }
      ],
      "source": [
        "# Deifne model and sent to device\n",
        "model = NetWithBatchNorm().to(device)\n",
        "\n",
        "# Optimizer: SGD with learning rate of 1e-2 and momentum of 0.5\n",
        "optimizer = optim.SGD(model.parameters(), lr=1e-2, momentum=0.5)\n",
        "\n",
        "# Training loop with 10 epochs\n",
        "for epoch in range(1, 10 + 1):\n",
        "    \n",
        "    # Train model\n",
        "    train(model, device, train_loader, optimizer, epoch)\n",
        "    \n",
        "    # Test model\n",
        "    test(model, device, test_loader)"
      ]
    },
    {
      "cell_type": "markdown",
      "metadata": {
        "id": "Gb9wYwme1WEj"
      },
      "source": [
        "## 4. Empirically, which of the models achieves higher accuracy faster? [1pt]"
      ]
    },
    {
      "cell_type": "markdown",
      "metadata": {
        "id": "LlY11BPA1WEj"
      },
      "source": [
        "Answer: "
      ]
    },
    {
      "cell_type": "code",
      "execution_count": null,
      "metadata": {
        "id": "VoYYcWH5EH0y"
      },
      "outputs": [],
      "source": []
    }
  ],
  "metadata": {
    "colab": {
      "collapsed_sections": [],
      "provenance": []
    },
    "kernelspec": {
      "display_name": "Python 3",
      "language": "python",
      "name": "python3"
    },
    "language_info": {
      "codemirror_mode": {
        "name": "ipython",
        "version": 3
      },
      "file_extension": ".py",
      "mimetype": "text/x-python",
      "name": "python",
      "nbconvert_exporter": "python",
      "pygments_lexer": "ipython3",
      "version": "3.11.4"
    }
  },
  "nbformat": 4,
  "nbformat_minor": 0
}
